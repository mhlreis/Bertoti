{
  "cells": [
    {
      "cell_type": "markdown",
      "metadata": {
        "id": "E4J78UXhTG-G"
      },
      "source": []
    },
    {
      "cell_type": "code",
      "execution_count": null,
      "metadata": {
        "colab": {
          "base_uri": "https://localhost:8080/"
        },
        "collapsed": true,
        "id": "bNTtA20CTG-H",
        "outputId": "ea3191d9-4d96-4b80-d152-f8d9f447df79"
      },
      "outputs": [
        {
          "name": "stdout",
          "output_type": "stream",
          "text": [
            "Collecting pytelegrambotapi\n",
            "  Downloading pytelegrambotapi-4.19.0-py3-none-any.whl (244 kB)\n",
            "\u001b[2K     \u001b[90m━━━━━━━━━━━━━━━━━━━━━━━━━━━━━━━━━━━━━━━━\u001b[0m \u001b[32m245.0/245.0 kB\u001b[0m \u001b[31m3.8 MB/s\u001b[0m eta \u001b[36m0:00:00\u001b[0m\n",
            "\u001b[?25hRequirement already satisfied: requests in /usr/local/lib/python3.10/dist-packages (from pytelegrambotapi) (2.31.0)\n",
            "Requirement already satisfied: charset-normalizer<4,>=2 in /usr/local/lib/python3.10/dist-packages (from requests->pytelegrambotapi) (3.3.2)\n",
            "Requirement already satisfied: idna<4,>=2.5 in /usr/local/lib/python3.10/dist-packages (from requests->pytelegrambotapi) (3.7)\n",
            "Requirement already satisfied: urllib3<3,>=1.21.1 in /usr/local/lib/python3.10/dist-packages (from requests->pytelegrambotapi) (2.0.7)\n",
            "Requirement already satisfied: certifi>=2017.4.17 in /usr/local/lib/python3.10/dist-packages (from requests->pytelegrambotapi) (2024.6.2)\n",
            "Installing collected packages: pytelegrambotapi\n",
            "Successfully installed pytelegrambotapi-4.19.0\n",
            "Requirement already satisfied: transformers in /usr/local/lib/python3.10/dist-packages (4.41.2)\n",
            "Requirement already satisfied: filelock in /usr/local/lib/python3.10/dist-packages (from transformers) (3.14.0)\n",
            "Requirement already satisfied: huggingface-hub<1.0,>=0.23.0 in /usr/local/lib/python3.10/dist-packages (from transformers) (0.23.2)\n",
            "Requirement already satisfied: numpy>=1.17 in /usr/local/lib/python3.10/dist-packages (from transformers) (1.25.2)\n",
            "Requirement already satisfied: packaging>=20.0 in /usr/local/lib/python3.10/dist-packages (from transformers) (24.0)\n",
            "Requirement already satisfied: pyyaml>=5.1 in /usr/local/lib/python3.10/dist-packages (from transformers) (6.0.1)\n",
            "Requirement already satisfied: regex!=2019.12.17 in /usr/local/lib/python3.10/dist-packages (from transformers) (2024.5.15)\n",
            "Requirement already satisfied: requests in /usr/local/lib/python3.10/dist-packages (from transformers) (2.31.0)\n",
            "Requirement already satisfied: tokenizers<0.20,>=0.19 in /usr/local/lib/python3.10/dist-packages (from transformers) (0.19.1)\n",
            "Requirement already satisfied: safetensors>=0.4.1 in /usr/local/lib/python3.10/dist-packages (from transformers) (0.4.3)\n",
            "Requirement already satisfied: tqdm>=4.27 in /usr/local/lib/python3.10/dist-packages (from transformers) (4.66.4)\n",
            "Requirement already satisfied: fsspec>=2023.5.0 in /usr/local/lib/python3.10/dist-packages (from huggingface-hub<1.0,>=0.23.0->transformers) (2023.6.0)\n",
            "Requirement already satisfied: typing-extensions>=3.7.4.3 in /usr/local/lib/python3.10/dist-packages (from huggingface-hub<1.0,>=0.23.0->transformers) (4.12.1)\n",
            "Requirement already satisfied: charset-normalizer<4,>=2 in /usr/local/lib/python3.10/dist-packages (from requests->transformers) (3.3.2)\n",
            "Requirement already satisfied: idna<4,>=2.5 in /usr/local/lib/python3.10/dist-packages (from requests->transformers) (3.7)\n",
            "Requirement already satisfied: urllib3<3,>=1.21.1 in /usr/local/lib/python3.10/dist-packages (from requests->transformers) (2.0.7)\n",
            "Requirement already satisfied: certifi>=2017.4.17 in /usr/local/lib/python3.10/dist-packages (from requests->transformers) (2024.6.2)\n"
          ]
        }
      ],
      "source": [
        "# %%\n",
        "! pip install pytelegrambotapi\n",
        "! pip install transformers\n"
      ]
    },
    {
      "cell_type": "code",
      "execution_count": null,
      "metadata": {
        "id": "YJxBmnAHTG-N"
      },
      "outputs": [],
      "source": [
        "# %%\n",
        "import telebot\n",
        "import unicodedata\n",
        "import re\n",
        "import requests\n",
        "import time\n",
        "import string"
      ]
    },
    {
      "cell_type": "code",
      "execution_count": null,
      "metadata": {
        "id": "Vfd0u7TTTG-O"
      },
      "outputs": [],
      "source": [
        "# %%\n",
        "from transformers import pipeline\n"
      ]
    },
    {
      "cell_type": "code",
      "execution_count": null,
      "metadata": {
        "id": "AbKPrD63TG-P"
      },
      "outputs": [],
      "source": [
        "# %%\n",
        "API_TOKEN = 'INSIRA SEU TOKEN'\n",
        "bot = telebot.TeleBot(API_TOKEN)\n"
      ]
    },
    {
      "cell_type": "markdown",
      "metadata": {
        "id": "xqBwwuTUH4L-"
      },
      "source": []
    },
    {
      "cell_type": "code",
      "execution_count": null,
      "metadata": {
        "id": "mhidehkOTG-R"
      },
      "outputs": [],
      "source": [
        "# %%\n",
        "conversation_state = {}\n",
        "user_data = {}\n",
        "\n",
        "menu = {\n",
        "    \"Hatch\": 55.0,\n",
        "    \"Sedan\": 85.0,\n",
        "    \"SUV\": 100.0,\n",
        "    \"Wagon\": 120.0,\n",
        "    \"Utilitário\": 140.0,\n",
        "    \"Luxo\": 200.0,\n",
        "    \"Esportivo\": 500.0\n",
        "}\n",
        "\n",
        "\n",
        "def normalize_text(text):\n",
        "    return unicodedata.normalize('NFKD', text).encode('ASCII', 'ignore').decode('ASCII').lower()\n",
        "\n",
        "@bot.message_handler(commands=['start'])\n",
        "def reply_hi(message):\n",
        "    chat_id = message.chat.id\n",
        "\n",
        "\n",
        "    if chat_id not in conversation_state:\n",
        "        welcome_message = \"Seja Bem Vindo á LocAutoBots!\\n\"\n",
        "    else:\n",
        "        welcome_message = \"Seja Bem Vindo á LocAutoBots!\\n\"\n",
        "\n",
        "\n",
        "    conversation_state[chat_id] = 'aguardando_acao'\n",
        "    user_data[chat_id] = {}\n",
        "\n",
        "    bot.reply_to(message, welcome_message +\n",
        "                     \"Como podemos ajuda-lo hoje?\\n\"\"Digite 'ajuda' para as opções disponiveis.\")\n"
      ]
    },
    {
      "cell_type": "code",
      "execution_count": null,
      "metadata": {
        "id": "k3LoH9AxTG-S"
      },
      "outputs": [],
      "source": [
        "# %%\n",
        "@bot.message_handler(func=lambda message: True)\n",
        "def process_message(message):\n",
        "    chat_id = message.chat.id\n",
        "    user_message = normalize_text(message.text)\n",
        "\n",
        "    if user_message == 'localizacao':\n",
        "        request_location(message)\n",
        "    elif user_message == 'ajuda':\n",
        "        show_help_menu(message)\n",
        "    elif conversation_state.get(chat_id) == 'aguardando_acao':\n",
        "        if 'alugar' in user_message or 'reservar' in user_message:\n",
        "            choose_auto(message, user_message)\n",
        "        elif user_message == 'auto':\n",
        "            show_menu(message)\n",
        "        elif user_message.capitalize() in menu:\n",
        "            choose_auto(message, user_message.capitalize())\n",
        "        else:\n",
        "            bot.reply_to(message, \"Desculpe, não entendi. Digite 'ajuda' para ver as opções!\")\n",
        "    elif conversation_state.get(chat_id) == 'escolhendo_auto':\n",
        "        choose_auto(message, user_message)\n",
        "    elif conversation_state.get(chat_id) == 'confirmando_auto':\n",
        "        confirm_auto(message, user_message)\n",
        "    elif conversation_state.get(chat_id) == 'definindo_quantidade':\n",
        "        set_quantity(message, user_message)\n",
        "    elif conversation_state.get(chat_id) == 'adicionando_mais_auto':\n",
        "        add_more_auto(message, user_message)\n",
        "    elif conversation_state.get(chat_id) == 'confirmando_pedido':\n",
        "        confirm_order(message, user_message)\n",
        "    elif conversation_state.get(chat_id) == 'help':\n",
        "        if user_message == '1':\n",
        "            show_menu(message)\n",
        "        elif user_message == '2':\n",
        "            show_about(message)\n",
        "        elif user_message == '3':\n",
        "            show_contact(message)\n",
        "        elif user_message == '4':\n",
        "            request_location(message)\n",
        "        else:\n",
        "            bot.reply_to(message, \"Por favor, digite uma opção válida.\")\n",
        "        conversation_state[chat_id] = 'aguardando_acao'\n",
        "\n"
      ]
    },
    {
      "cell_type": "code",
      "execution_count": null,
      "metadata": {
        "id": "Ote5n4Zlt5wm"
      },
      "outputs": [],
      "source": [
        "# %%\n",
        "def show_help_menu(message):\n",
        "    chat_id = message.chat.id\n",
        "    help_options = \"Opções de ajuda disponíveis:\\n\"\"Digite o nº da opção desejada:\\n\"\n",
        "\n",
        "    help_options += \"\\n1. Reservas\\n\"\n",
        "    help_options += \"2. Sobre\\n\"\n",
        "    help_options += \"3. Contato\\n\"\n",
        "    help_options += \"4. Cadastro\\n\"\n",
        "    bot.reply_to(message, help_options)\n",
        "    conversation_state[chat_id] = 'help'  # Adicionado aqui\n",
        "\n",
        "def show_about(message):\n",
        "    about_info = \"Sobre: Locadora AutoBots\\n\"\n",
        "    about_info += \"Somos uma locadora de automóveis especializada em fornecer veículos de qualidade para nossos clientes. Estamos comprometidos em oferecer um excelente serviço e garantir uma experiência de aluguel de automóveis agradável e conveniente. AutoBots, vamos rodar!\\n\"\n",
        "    bot.reply_to(message, about_info)\n",
        "\n",
        "def show_contact(message):\n",
        "    contact_info = \"Contato: Locadora AutoBots\\n\"\n",
        "    contact_info += \"Endereço: Rua Cybertron, 12345\\n\"\n",
        "    contact_info += \"Telefone: (11) 98800-1122\\n\"\n",
        "    contact_info += \"E-mail: autobots@locadora.com\\n\"\n",
        "    bot.reply_to(message, contact_info)"
      ]
    },
    {
      "cell_type": "code",
      "execution_count": null,
      "metadata": {
        "id": "l75vXDiYTG-U"
      },
      "outputs": [],
      "source": [
        "# %%\n",
        "def show_menu(message):\n",
        "    chat_id = message.chat.id\n",
        "    menu_text = \"\\n\".join([f\"- {autos} (R$ {preco:.2f})\" for autos, preco in menu.items()])\n",
        "    bot.reply_to(message, f\"Nossas opções de Automoveis:\\n{menu_text}\\nQual você gostaria de escolher?\")\n",
        "    conversation_state[chat_id] = 'escolhendo_auto'\n",
        "    if chat_id not in user_data or 'autos' not in user_data[chat_id]:\n",
        "        user_data[chat_id] = {'autos': []}\n",
        "\n"
      ]
    },
    {
      "cell_type": "code",
      "execution_count": null,
      "metadata": {
        "id": "ZsqSMRDvTG-W"
      },
      "outputs": [],
      "source": [
        "# %%\n",
        "def preprocess_text(text):\n",
        "    # Remove pontuação\n",
        "    text = text.translate(str.maketrans('', '', string.punctuation))\n",
        "    # Converter para minúsculas\n",
        "    text = text.lower()\n",
        "    return text\n",
        "\n",
        "def choose_auto(message, user_message):\n",
        "    chat_id = message.chat.id\n",
        "    classifier = pipeline(\"zero-shot-classification\", model=\"MoritzLaurer/mDeBERTa-v3-base-mnli-xnli\")\n",
        "\n",
        "    # Definir as palavras-chave para procurar na frase do usuário\n",
        "    keywords = [\"alugar\", \"reservar\"]\n",
        "    user_intent = None\n",
        "\n",
        "    # Procurar pelas palavras-chave na frase do usuário\n",
        "    for keyword in keywords:\n",
        "        if keyword in user_message:\n",
        "            user_intent = user_message.split(keyword)[1].strip()\n",
        "            break\n",
        "\n",
        "    if user_intent is None:\n",
        "        # Se nenhuma palavra-chave for encontrada, informar ao usuário que a frase não foi entendida\n",
        "        bot.reply_to(message, \"Desculpe, não entendi. Por favor, use 'alugar' ou 'reservar'.\")\n",
        "        return\n",
        "\n",
        "\n",
        "    typed_order = \"\" + keywords[0] + \" \" + user_intent\n",
        "\n",
        "\n",
        "    menu_options = list(menu.keys())\n",
        "\n",
        "\n",
        "    results = classifier(typed_order, candidate_labels=menu_options, hypothesis_template=\"O Veiculo é {}.\")\n",
        "\n",
        "    # Verificar os resultados\n",
        "    print(results)\n",
        "\n",
        "    max_score_index = results[\"scores\"].index(max(results[\"scores\"]))\n",
        "    predicted_reserva = results[\"labels\"][max_score_index]\n",
        "\n",
        "    bot.reply_to(message, f\"Você quis dizer {predicted_reserva}? Por favor, confirme (sim/não).\")\n",
        "\n",
        "    user_data.setdefault(chat_id, {}).setdefault('autos', {})\n",
        "    user_data[chat_id]['auto'] = predicted_reserva\n",
        "\n",
        "    conversation_state[chat_id] = 'confirmando_auto'\n",
        "\n",
        "def confirm_auto(message, user_message):\n",
        "    chat_id = message.chat.id\n",
        "    if user_message == 'sim':\n",
        "        auto_escolhido = user_data[chat_id]['auto']\n",
        "\n",
        "\n",
        "        if not isinstance(user_data[chat_id]['autos'], dict):\n",
        "            user_data[chat_id]['autos'] = {}\n",
        "\n",
        "        user_data[chat_id]['autos'][auto_escolhido] = None\n",
        "        bot.reply_to(message, f\"Ok, {auto_escolhido} adicionado a sua reserva. Quantas Diárias você gostaria?\")\n",
        "        conversation_state[chat_id] = 'definindo_quantidade'\n",
        "\n",
        "    elif user_message == 'nao':\n",
        "        bot.reply_to(message, \"Por favor, escolha um Automóvel.\")\n",
        "        conversation_state[chat_id] = 'escolhendo_auto'\n",
        "    else:\n",
        "        bot.reply_to(message, \"Desculpe, não entendi. Por favor, responda com 'sim' ou 'não'.\")\n",
        "\n",
        "\n",
        "def add_more_auto(message, user_message):\n",
        "    chat_id = message.chat.id\n",
        "    if user_message is None:\n",
        "        bot.reply_to(message, \"Deseja reservar outro Automóvel? (sim/não)\")\n",
        "        conversation_state[chat_id] = 'adicionando_mais_auto'\n",
        "    elif user_message == 'sim':\n",
        "        show_menu(message)\n",
        "    elif user_message == 'nao':\n",
        "        show_order_confirmation(message)\n",
        "    else:\n",
        "        bot.reply_to(message, \"Desculpe, não entendi. Por favor, responda com 'sim' ou 'não'.\")\n",
        "\n",
        "\n",
        "\n",
        "\n"
      ]
    },
    {
      "cell_type": "code",
      "execution_count": null,
      "metadata": {
        "id": "tN7DI0GqESgo"
      },
      "outputs": [],
      "source": [
        "# %%\n",
        "def set_quantity(message, user_message):\n",
        "    chat_id = message.chat.id\n",
        "    autos = user_data[chat_id][\"autos\"]\n",
        "\n",
        "\n",
        "    next_auto = next((auto for auto, quantity in autos.items() if quantity is None), None)\n",
        "\n",
        "    if user_message is None:\n",
        "\n",
        "        if next_auto:\n",
        "            bot.reply_to(message, f\"Quantos dias {next_auto} você gostaria de reservar?\")\n",
        "        else:\n",
        "            bot.reply_to(message, \"Você ainda não escolheu nenhum Automóvel. Digite 'automovel' para ver as opções.\")\n",
        "            conversation_state[chat_id] = 'aguardando_acao'\n",
        "            return\n",
        "\n",
        "        conversation_state[chat_id] = 'definindo_quantidade'\n",
        "    else:\n",
        "        try:\n",
        "            quantidade = int(user_message)\n",
        "            if quantidade > 0:\n",
        "\n",
        "                user_data[chat_id][\"autos\"][next_auto] = quantidade\n",
        "\n",
        "\n",
        "                next_auto = next((auto for auto, quantity in autos.items() if quantity is None), None)\n",
        "\n",
        "                if next_auto:\n",
        "\n",
        "                    bot.reply_to(message, f\"São {next_auto} dias que você gostaria de reservar?\")\n",
        "                else:\n",
        "\n",
        "                    add_more_auto(message, None)\n",
        "            else:\n",
        "                bot.reply_to(message, \"Por favor, informe uma quantidade válida (maior que zero).\")\n",
        "        except ValueError:\n",
        "            bot.reply_to(message, \"Por favor, informe um número para a quantidade.\")\n",
        "\n",
        "\n"
      ]
    },
    {
      "cell_type": "code",
      "execution_count": null,
      "metadata": {
        "id": "XNJd5nFKTG-a"
      },
      "outputs": [],
      "source": [
        "# %%\n",
        "def show_order_confirmation(message):\n",
        "    chat_id = message.chat.id\n",
        "    autos_pedido = user_data[chat_id][\"autos\"]\n",
        "\n",
        "    preco_total = sum(menu[d] * q for d, q in autos_pedido.items())\n",
        "\n",
        "\n",
        "    pedido_resumo = \"\\n\".join(\n",
        "        [f\"- {q} diárias de {d} (R$ {menu[d]*q:.2f})\" for d, q in autos_pedido.items()]\n",
        "    )\n",
        "    bot.reply_to(\n",
        "        message,\n",
        "        f\"Perfeito! Seu pedido:\\n{pedido_resumo}\\nPreço total: R$ {preco_total:.2f}\\nConfirma? (sim/não)\",\n",
        "    )\n",
        "    conversation_state[chat_id] = \"confirmando_pedido\"\n",
        "\n",
        "\n",
        "\n",
        "def confirm_order(message, user_message):\n",
        "    chat_id = message.chat.id\n",
        "    if user_message == 'sim':\n",
        "        bot.reply_to(message, \"Reserva Feita! Agora, só precisamos do seu endereço para o cadastro.\")\n",
        "        request_location(message)\n",
        "        conversation_state[chat_id] = 'aguardando_localizacao'\n",
        "    else:\n",
        "        bot.reply_to(message, \"Reserva Cancelada. Se quiser refazer, é só me dizer!\")\n",
        "        conversation_state[chat_id] = 'aguardando_acao'\n",
        "        user_data[chat_id] = {}\n",
        "\n"
      ]
    },
    {
      "cell_type": "code",
      "execution_count": null,
      "metadata": {
        "colab": {
          "base_uri": "https://localhost:8080/"
        },
        "collapsed": true,
        "id": "Erp_bAVTyj8l",
        "outputId": "c6caa8ee-59f3-48ad-c937-dd7982fc8bad"
      },
      "outputs": [
        {
          "name": "stdout",
          "output_type": "stream",
          "text": [
            "sua_chave_api··········\n"
          ]
        }
      ],
      "source": [
        "from getpass import getpass\n",
        "\n",
        "api_key = getpass('sua_chave_api')"
      ]
    },
    {
      "cell_type": "code",
      "execution_count": null,
      "metadata": {
        "id": "HTvdOPaLTG-b"
      },
      "outputs": [],
      "source": [
        "# %%\n",
        "def request_location(message):\n",
        "    chat_id = message.chat.id\n",
        "    bot.send_message(\n",
        "        chat_id,\n",
        "        \"Por favor, compartilhe sua localização para facilitar o cadastro.\",\n",
        "        reply_markup=telebot.types.ReplyKeyboardMarkup(\n",
        "            resize_keyboard=True, one_time_keyboard=True\n",
        "        ).add(\n",
        "            telebot.types.KeyboardButton(\n",
        "                text=\"Compartilhar localização\", request_location=True\n",
        "            )\n",
        "        )\n",
        "    )\n",
        "    conversation_state[chat_id] = 'aguardando_localizacao'\n",
        "\n",
        "# Função para obter o endereço a partir das coordenadas\n",
        "def get_address_from_coordinates(latitude, longitude, api_key):\n",
        "    url = f\"https://maps.googleapis.com/maps/api/geocode/json?latlng={latitude},{longitude}&key={api_key}\"\n",
        "    try:\n",
        "        response = requests.get(url)\n",
        "        response.raise_for_status()  # Raise exception for bad HTTP responses\n",
        "        data = response.json()\n",
        "        if data['status'] == 'OK':\n",
        "            return data['results'][0]['formatted_address']\n",
        "        else:\n",
        "            return \"Endereço não encontrado\"\n",
        "    except requests.exceptions.RequestException as e:\n",
        "        print(f\"Error making request: {e}\")\n",
        "        return \"Endereço não encontrado devido a um erro na API\"\n",
        "    except requests.exceptions.JSONDecodeError as e:\n",
        "        print(f\"Error decoding JSON: {e}\")\n",
        "        return \"Endereço não encontrado devido a um erro na resposta da API\"\n",
        "\n",
        "# Função para lidar com a localização enviada pelo usuário\n",
        "@bot.message_handler(\n",
        "    content_types=['location'],\n",
        "    func=lambda message: conversation_state.get(message.chat.id) == 'aguardando_localizacao'\n",
        ")\n",
        "def handle_location_and_confirm(message):\n",
        "    chat_id = message.chat.id\n",
        "    latitude = message.location.latitude\n",
        "    longitude = message.location.longitude\n",
        "    endereco = get_address_from_coordinates(latitude, longitude, api_key)\n",
        "\n",
        "    if endereco:\n",
        "        bot.reply_to(message, f\"Localização recebida! Endereço aproximado:\")\n",
        "        bot.send_message(chat_id, f\"{endereco}\")\n",
        "        bot.send_message(chat_id, \"Por favor, copie o endereço acima, corrija-o e inclua complementos, se necessário, e envie-o de volta:\")\n",
        "        conversation_state[chat_id] = 'aguardando_endereco_correto'\n",
        "        bot.register_next_step_handler(message, handle_endereco_correto)\n",
        "    else:\n",
        "        bot.reply_to(message, \"Não foi possível encontrar o endereço correspondente às coordenadas fornecidas.\")\n"
      ]
    },
    {
      "cell_type": "code",
      "execution_count": null,
      "metadata": {
        "id": "T2-KZOSmzGbI"
      },
      "outputs": [],
      "source": [
        "# %%\n",
        "def handle_endereco_correto(message):\n",
        "    chat_id = message.chat.id\n",
        "    endereco_correto = message.text\n",
        "    user_data[chat_id][\"endereco\"] = endereco_correto\n",
        "    bot.send_message(\n",
        "        chat_id, f\"Endereço atualizado:\\n{endereco_correto}.\\nConfirma o endereço de cadastro? (sim/não)\"\n",
        "    )\n",
        "    conversation_state[chat_id] = 'confirmando_endereco'\n",
        "    bot.register_next_step_handler(message, handle_confirmacao_endereco_message)\n",
        "\n",
        "def handle_confirmacao_endereco(message, user_message):\n",
        "    chat_id = message.chat.id\n",
        "    if user_message == 'sim':\n",
        "        # Confirmar o pedido\n",
        "        bot.reply_to(message, \"Cadastro Feito! Obrigado!\")\n",
        "        conversation_state[chat_id] = 'aguardando_acao'\n",
        "        user_data[chat_id] = {}  # Reset user data for the next order\n",
        "    else:\n",
        "        # Reiniciar o processo de solicitação de endereço\n",
        "        bot.reply_to(message, \"Ok, vamos tentar novamente. Por favor, compartilhe sua localização:\")\n",
        "        request_location(message)\n",
        "\n",
        "\n",
        "@bot.message_handler(func=lambda message: conversation_state.get(message.chat.id) == 'confirmando_endereco')\n",
        "def handle_confirmacao_endereco_message(message):\n",
        "    handle_confirmacao_endereco(message, message.text.lower())\n"
      ]
    },
    {
      "cell_type": "markdown",
      "metadata": {
        "id": "Xv5KG0OPHfBV"
      },
      "source": []
    },
    {
      "cell_type": "code",
      "execution_count": null,
      "metadata": {
        "colab": {
          "base_uri": "https://localhost:8080/"
        },
        "collapsed": true,
        "id": "q0SI8oUhTG-c",
        "outputId": "7016a77b-0695-4d70-e225-c4ea9c851e56"
      },
      "outputs": [
        {
          "name": "stdout",
          "output_type": "stream",
          "text": [
            "{'sequence': 'alugar um barco', 'labels': ['Utilitário', 'Esportivo', 'Luxo', 'Wagon', 'Hatch', 'Sedan', 'SUV'], 'scores': [0.7833740711212158, 0.05950348824262619, 0.058453891426324844, 0.05507931858301163, 0.035537078976631165, 0.004572639241814613, 0.003479478182271123]}\n",
            "{'sequence': 'alugar uma bmw', 'labels': ['Esportivo', 'Utilitário', 'Wagon', 'SUV', 'Hatch', 'Luxo', 'Sedan'], 'scores': [0.4441850483417511, 0.24458308517932892, 0.13492174446582794, 0.09451165795326233, 0.029836714267730713, 0.027710463851690292, 0.024251338094472885]}\n",
            "{'sequence': 'alugar um rolls royce', 'labels': ['Utilitário', 'Luxo', 'Wagon', 'Hatch', 'Esportivo', 'SUV', 'Sedan'], 'scores': [0.48031795024871826, 0.2578819990158081, 0.17652224004268646, 0.047633495181798935, 0.020267415791749954, 0.01241132989525795, 0.004965605679899454]}\n"
          ]
        }
      ],
      "source": [
        "# %%\n",
        "bot.polling()\n",
        "\n",
        "\n"
      ]
    }
  ],
  "metadata": {
    "colab": {
      "provenance": []
    },
    "kernelspec": {
      "display_name": "Python 3",
      "name": "python3"
    },
    "language_info": {
      "name": "python"
    }
  },
  "nbformat": 4,
  "nbformat_minor": 0
}
